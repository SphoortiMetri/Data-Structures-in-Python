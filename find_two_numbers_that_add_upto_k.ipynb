{
 "cells": [
  {
   "cell_type": "markdown",
   "metadata": {},
   "source": [
    "Input \n",
    "A list and a number k\n",
    "\n",
    "Output \n",
    "A list with two integers a and b that add up to k"
   ]
  },
  {
   "cell_type": "markdown",
   "metadata": {},
   "source": [
    "Assuming there is only one such pair in the list "
   ]
  },
  {
   "cell_type": "markdown",
   "metadata": {},
   "source": [
    "# Brute Force \n"
   ]
  },
  {
   "cell_type": "markdown",
   "metadata": {},
   "source": [
    "##### Programming approach: \n",
    "\n",
    "For every element in the list iterate the rest to find if any pair "
   ]
  },
  {
   "cell_type": "code",
   "execution_count": 6,
   "metadata": {},
   "outputs": [],
   "source": [
    "def findSum(lst, k):\n",
    "    # Write your code here\n",
    "    for i in range(len(lst)): \n",
    "        for j in range(i+1,len(lst)): \n",
    "            if lst[i] + lst[j] == k: \n",
    "                return [lst[i],lst[j]]"
   ]
  },
  {
   "cell_type": "code",
   "execution_count": 13,
   "metadata": {},
   "outputs": [
    {
     "data": {
      "text/plain": [
       "[3, 2]"
      ]
     },
     "execution_count": 13,
     "metadata": {},
     "output_type": "execute_result"
    }
   ],
   "source": [
    "findSum([0,3,3,4,2],5)"
   ]
  },
  {
   "cell_type": "markdown",
   "metadata": {},
   "source": [
    "#### Time Complexity\n",
    "\n",
    "O(n^2)"
   ]
  },
  {
   "cell_type": "markdown",
   "metadata": {},
   "source": [
    "# Sort and use binary search "
   ]
  },
  {
   "cell_type": "markdown",
   "metadata": {},
   "source": [
    "Approach: Sort the list and \n",
    "For every element, perform a binary search for (k-element)"
   ]
  },
  {
   "cell_type": "code",
   "execution_count": 15,
   "metadata": {},
   "outputs": [],
   "source": [
    "def binarySearch(a, item):\n",
    "    first = 0\n",
    "    last = len(a) - 1\n",
    "    found = False\n",
    "    index = -1\n",
    "    while first <= last and not found:\n",
    "        mid = (first + last) // 2\n",
    "        if a[mid] == item:\n",
    "            index = mid\n",
    "            found = True\n",
    "        else:\n",
    "            if item < a[mid]:\n",
    "                last = mid - 1\n",
    "            else:\n",
    "                first = mid + 1\n",
    "    if found:\n",
    "        return index\n",
    "    else:\n",
    "        return -1"
   ]
  },
  {
   "cell_type": "code",
   "execution_count": 30,
   "metadata": {},
   "outputs": [],
   "source": [
    "def find_sum_binary(lst,k): \n",
    "    lst.sort()\n",
    "    for i in range(len(lst)): \n",
    "        index = binarySearch(lst, k-lst[i])\n",
    "        if index != -1 and index != i: \n",
    "            return [lst[i], lst[index]]\n",
    "        "
   ]
  },
  {
   "cell_type": "code",
   "execution_count": 31,
   "metadata": {},
   "outputs": [
    {
     "data": {
      "text/plain": [
       "[2, 3]"
      ]
     },
     "execution_count": 31,
     "metadata": {},
     "output_type": "execute_result"
    }
   ],
   "source": [
    "find_sum_binary([0,3,3,4,2],5)"
   ]
  },
  {
   "cell_type": "markdown",
   "metadata": {},
   "source": [
    "##### Time complexity\n",
    "\n",
    "- Assuming python's sort function takes O(nlogn) time \n",
    "- The list is iterated once in the for loop - O(n) \n",
    "- binarysearch would take - O(logn)\n",
    "\n",
    "##### O(nlogn) "
   ]
  },
  {
   "cell_type": "markdown",
   "metadata": {},
   "source": [
    "# Sliding window approach \n"
   ]
  },
  {
   "cell_type": "markdown",
   "metadata": {},
   "source": [
    "#### Approach: \n",
    " \n",
    " 1. Sort the list\n",
    " 2. Initialize two variables start and end \n",
    " 3. If the sum is greater than k, decrement index by 1 \n",
    " 4. If the sum is lesser than k, increment start index by 1 \n",
    " 5. If the sum is equal to k, return the two values "
   ]
  },
  {
   "cell_type": "code",
   "execution_count": 34,
   "metadata": {},
   "outputs": [],
   "source": [
    "def find_sum_window(lst,k): \n",
    "    start = 0 \n",
    "    end = len(lst) - 1 \n",
    "    lst.sort() \n",
    "    \n",
    "    while start != end: \n",
    "        sum = lst[start] + lst[end]\n",
    "        if sum > k: \n",
    "            end -= 1 \n",
    "        elif sum < k: \n",
    "            start += 1 \n",
    "        else: \n",
    "            return[lst[start],lst[end]]\n",
    "    return -1 \n",
    "            "
   ]
  },
  {
   "cell_type": "code",
   "execution_count": 37,
   "metadata": {},
   "outputs": [
    {
     "data": {
      "text/plain": [
       "[2, 3]"
      ]
     },
     "execution_count": 37,
     "metadata": {},
     "output_type": "execute_result"
    }
   ],
   "source": [
    "find_sum_window([0,3,3,4,2],5)"
   ]
  },
  {
   "cell_type": "markdown",
   "metadata": {},
   "source": [
    "##### Time complexity \n",
    "\n",
    "O(nlogn) - Sort function"
   ]
  },
  {
   "cell_type": "markdown",
   "metadata": {},
   "source": [
    "# Hashing approach"
   ]
  },
  {
   "cell_type": "markdown",
   "metadata": {},
   "source": [
    "#### Approach: \n",
    "\n",
    "1. For every element in the list look for k-element in the dictionary \n",
    "2. If its not present, add it to the dictionary \n",
    "3. Once a corresponding k-element is found for any element, return the pair "
   ]
  },
  {
   "cell_type": "code",
   "execution_count": 1,
   "metadata": {},
   "outputs": [],
   "source": [
    "def find_sum_dictionary(lst, k): \n",
    "    dict_of_found_value = {} \n",
    "    \n",
    "    for num in lst: \n",
    "        try: \n",
    "            dict_of_found_value[k-num]\n",
    "            return [num,k-num]\n",
    "        except KeyError: \n",
    "            dict_of_found_value[num] = 0\n",
    "    return -1 \n",
    "        "
   ]
  },
  {
   "cell_type": "code",
   "execution_count": 2,
   "metadata": {},
   "outputs": [
    {
     "data": {
      "text/plain": [
       "-1"
      ]
     },
     "execution_count": 2,
     "metadata": {},
     "output_type": "execute_result"
    }
   ],
   "source": [
    "find_sum_dictionary([0,3,3,4,2],23)"
   ]
  },
  {
   "cell_type": "markdown",
   "metadata": {},
   "source": [
    "##### Time complexity: O(n)\n",
    "\n",
    "- Since inserting to and retrieving from a dicitionary takes constant time: O(1) \n",
    "- The list is iterated only once: O(n) "
   ]
  },
  {
   "cell_type": "code",
   "execution_count": null,
   "metadata": {},
   "outputs": [],
   "source": []
  }
 ],
 "metadata": {
  "kernelspec": {
   "display_name": "Python 3",
   "language": "python",
   "name": "python3"
  },
  "language_info": {
   "codemirror_mode": {
    "name": "ipython",
    "version": 3
   },
   "file_extension": ".py",
   "mimetype": "text/x-python",
   "name": "python",
   "nbconvert_exporter": "python",
   "pygments_lexer": "ipython3",
   "version": "3.7.6"
  }
 },
 "nbformat": 4,
 "nbformat_minor": 4
}
