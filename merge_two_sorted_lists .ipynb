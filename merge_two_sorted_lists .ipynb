{
 "cells": [
  {
   "cell_type": "markdown",
   "metadata": {},
   "source": [
    "Input:\n",
    "Two sorted lists\n",
    "\n",
    "Output: \n",
    "A merged and sorted list consisting of all elements of both input lists."
   ]
  },
  {
   "cell_type": "markdown",
   "metadata": {},
   "source": [
    "##### Program flow: \n",
    "\n",
    "The below code iterates through both the lists, comppares one item of the list with the other. If the element in list1 is smaller than element in list2, the element from list1 is appended to 'result'list and its index (index1) is incremented. The same applies if element from list2 is smaller than element from list1. After exiting of the while loop, it is possible that either of the lists might not be completely iterated. Based on current position of index1 or index2, we can append the rest of the list using the extend function "
   ]
  },
  {
   "cell_type": "markdown",
   "metadata": {},
   "source": [
    "### Creating a new list \n"
   ]
  },
  {
   "cell_type": "code",
   "execution_count": 9,
   "metadata": {},
   "outputs": [],
   "source": [
    "def merge_lists(lst1, lst2):\n",
    "    index1 = index2 = 0 \n",
    "    result = []\n",
    "    while index1 < len(lst1) and index2 < len(lst2): \n",
    "        if lst1[index1] < lst2[index2]: \n",
    "            result.append(lst1[index1])\n",
    "            index1 += 1 \n",
    "        else: \n",
    "            result.append(lst2[index2])\n",
    "            index2 += 1 \n",
    "\n",
    "    if index1 < len(lst1): \n",
    "        result.extend(lst1[index1:]) \n",
    "    if index2 < len(lst2): \n",
    "        result.extend(lst2[index2:])    \n",
    "\n",
    "    return result \n"
   ]
  },
  {
   "cell_type": "code",
   "execution_count": 12,
   "metadata": {},
   "outputs": [
    {
     "data": {
      "text/plain": [
       "[1, 2, 3, 4, 5, 7]"
      ]
     },
     "execution_count": 12,
     "metadata": {},
     "output_type": "execute_result"
    }
   ],
   "source": [
    "merge_lists([1,5,7],[2,3,4])"
   ]
  },
  {
   "cell_type": "code",
   "execution_count": 13,
   "metadata": {},
   "outputs": [
    {
     "data": {
      "text/plain": [
       "[2, 3, 4]"
      ]
     },
     "execution_count": 13,
     "metadata": {},
     "output_type": "execute_result"
    }
   ],
   "source": [
    "merge_lists([],[2,3,4])"
   ]
  },
  {
   "cell_type": "code",
   "execution_count": 14,
   "metadata": {},
   "outputs": [
    {
     "data": {
      "text/plain": [
       "[2, 2, 2, 2, 2, 2]"
      ]
     },
     "execution_count": 14,
     "metadata": {},
     "output_type": "execute_result"
    }
   ],
   "source": [
    "merge_lists([2,2,2],[2,2,2])"
   ]
  },
  {
   "cell_type": "markdown",
   "metadata": {},
   "source": [
    "##### Time complexity \n",
    "\n",
    "Since both the lists are iterated completely, time complexity would be O(m+n)"
   ]
  },
  {
   "cell_type": "markdown",
   "metadata": {},
   "source": [
    "### Inplace solution \n"
   ]
  },
  {
   "cell_type": "markdown",
   "metadata": {},
   "source": [
    "##### Program flow \n",
    "\n",
    "A better solution might be to insert elements from lst2 into lst1 itself rather than creating and inserting it to a new list. \n",
    "\n",
    "1. Compare element from lst1 with element from lst2\n",
    "2. If element from lst1 is greater, insert the element from lst2 to lst1 at index1 and incrememt both index1 and index2\n",
    "3. Else, increment index1 \n",
    "4. At the end of this while loop, the entire lst2 might not have been iterated. By checking the value of index2, we can add the rest of lst2 to lst1 "
   ]
  },
  {
   "cell_type": "code",
   "execution_count": 23,
   "metadata": {},
   "outputs": [],
   "source": [
    "def merge_lists_2(lst1, lst2):\n",
    "\n",
    "    index1 = 0 \n",
    "    index2 = 0 \n",
    "    result = [] \n",
    "\n",
    "    while index1 < len(lst1) and index2 < len(lst2): \n",
    "        if lst1[index1] > lst2[index2]: \n",
    "            lst1.insert(index1, lst2[index2])\n",
    "            index1 += 1 \n",
    "            index2 +=1 \n",
    "        else: \n",
    "            index1 += 1\n",
    "\n",
    "    if index2 < len(lst2): \n",
    "        lst1.extend(lst2[index2:])\n",
    "        \n",
    "    return lst1"
   ]
  },
  {
   "cell_type": "markdown",
   "metadata": {},
   "source": [
    "##### Time Complexity \n",
    "\n",
    "In the worst case, all the elements in lst2 are smalled than elements in lst1. \n",
    "- While loop: O(smaller list) \n",
    "- Insert: O(the other list) \n",
    "\n",
    "Time complexity: O(mn) \n"
   ]
  },
  {
   "cell_type": "code",
   "execution_count": 18,
   "metadata": {},
   "outputs": [
    {
     "data": {
      "text/plain": [
       "[1, 2, 3, 4, 5, 7]"
      ]
     },
     "execution_count": 18,
     "metadata": {},
     "output_type": "execute_result"
    }
   ],
   "source": [
    "merge_lists_2([1,5,7],[2,3,4])"
   ]
  },
  {
   "cell_type": "code",
   "execution_count": 20,
   "metadata": {},
   "outputs": [
    {
     "data": {
      "text/plain": [
       "[2, 3, 4]"
      ]
     },
     "execution_count": 20,
     "metadata": {},
     "output_type": "execute_result"
    }
   ],
   "source": [
    "merge_lists_2([],[2,3,4])"
   ]
  },
  {
   "cell_type": "code",
   "execution_count": 21,
   "metadata": {},
   "outputs": [
    {
     "data": {
      "text/plain": [
       "[2, 2, 2, 2, 2, 2]"
      ]
     },
     "execution_count": 21,
     "metadata": {},
     "output_type": "execute_result"
    }
   ],
   "source": [
    "merge_lists_2([2,2,2],[2,2,2])"
   ]
  },
  {
   "cell_type": "code",
   "execution_count": null,
   "metadata": {},
   "outputs": [],
   "source": []
  }
 ],
 "metadata": {
  "kernelspec": {
   "display_name": "Python 3",
   "language": "python",
   "name": "python3"
  },
  "language_info": {
   "codemirror_mode": {
    "name": "ipython",
    "version": 3
   },
   "file_extension": ".py",
   "mimetype": "text/x-python",
   "name": "python",
   "nbconvert_exporter": "python",
   "pygments_lexer": "ipython3",
   "version": "3.7.6"
  }
 },
 "nbformat": 4,
 "nbformat_minor": 4
}
